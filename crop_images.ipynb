{
 "cells": [
  {
   "cell_type": "code",
   "execution_count": 1,
   "metadata": {},
   "outputs": [],
   "source": [
    "import pandas as pd\n",
    "import numpy as np\n",
    "import xml.etree.ElementTree as ET\n",
    "import matplotlib.pyplot as plt\n",
    "import os\n",
    "from PIL import Image\n",
    "\n",
    "\n"
   ]
  },
  {
   "cell_type": "code",
   "execution_count": 4,
   "metadata": {},
   "outputs": [],
   "source": [
    "## image_dir is the directory that has the images\n",
    "image_dir = 'Images/full_scanner/'\n",
    "\n",
    "## annotations_dir should have the xml files from the labelImg output\n",
    "annotations_dir = 'Images/annotations/'"
   ]
  },
  {
   "cell_type": "code",
   "execution_count": 6,
   "metadata": {},
   "outputs": [],
   "source": [
    "images = [os.path.splitext(f)[0] for f in os.listdir(image_dir)]\n",
    "\n",
    "data = []\n",
    "for image in images:\n",
    "    img = os.path.join(image_dir, image+'.tif')\n",
    "    img_array = plt.imread(img)\n",
    "\n",
    "    annotations = os.path.join(annotations_dir,image+'.xml')\n",
    "    tree = ET.parse(annotations)\n",
    "    root = tree.getroot()\n",
    "\n",
    "    for i,c in enumerate(root.findall('./object/bndbox')):\n",
    "        x0 = int(c.find('xmin').text)\n",
    "        y0 = int(c.find('ymin').text)\n",
    "        xf = int(c.find('xmax').text)\n",
    "        yf = int(c.find('ymax').text)\n",
    "        cropped = img_array[y0:yf, x0:xf, :]\n",
    "        img_cropped = Image.fromarray(cropped)\n",
    "        img_cropped.save(image+'_'+str(i)+'.jpg')\n",
    "            \n"
   ]
  }
 ],
 "metadata": {
  "kernelspec": {
   "display_name": "Python 3",
   "language": "python",
   "name": "python3"
  },
  "language_info": {
   "codemirror_mode": {
    "name": "ipython",
    "version": 3
   },
   "file_extension": ".py",
   "mimetype": "text/x-python",
   "name": "python",
   "nbconvert_exporter": "python",
   "pygments_lexer": "ipython3",
   "version": "3.6.6"
  }
 },
 "nbformat": 4,
 "nbformat_minor": 2
}
