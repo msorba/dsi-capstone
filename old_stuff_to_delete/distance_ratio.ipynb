{
 "cells": [
  {
   "cell_type": "code",
   "execution_count": 84,
   "metadata": {
    "collapsed": true
   },
   "outputs": [],
   "source": [
    "import cv2\n",
    "from PIL import Image\n",
    "import matplotlib.pyplot as plt\n",
    "import numpy as np\n",
    "from functions import * # Our functions \n",
    "import os\n",
    "from sklearn.cluster import KMeans\n",
    "import warnings\n",
    "warnings.filterwarnings('ignore')\n"
   ]
  },
  {
   "cell_type": "code",
   "execution_count": 78,
   "metadata": {
    "collapsed": true
   },
   "outputs": [],
   "source": [
    "def reverse_from_linear_polarity(original_X, item_to_be_reversed):\n",
    "    x, y, r = original_X.shape[0]/2, original_X.shape[1]/2, np.sqrt(((original_X.shape[0]/2.0)**2.0)+((original_X.shape[1]/2.0)**2.0))\n",
    "    X_inverse = cv2.linearPolar(item_to_be_reversed, (x, y), r, cv2.WARP_INVERSE_MAP)\n",
    "    return X_inverse"
   ]
  },
  {
   "cell_type": "code",
   "execution_count": 79,
   "metadata": {
    "collapsed": true
   },
   "outputs": [],
   "source": [
    "image_folder = os.getcwd()+'/static/uploads'"
   ]
  },
  {
   "cell_type": "code",
   "execution_count": 81,
   "metadata": {},
   "outputs": [],
   "source": [
    "def find_circle(filename):\n",
    "    image = cv2.imread(filename, 0)\n",
    "    size = np.sqrt(image.size)\n",
    "    output = image.copy()\n",
    "    center_x, center_y = None, None\n",
    "    circles = cv2.HoughCircles(image,cv2.HOUGH_GRADIENT,1,20,param1=50,param2=30,minRadius= int(size*5/12), maxRadius= int(size/2))\n",
    "    if circles is not None:\n",
    "        # convert the (x, y) coordinates and radius of the circles to integers\n",
    "        circles = np.round(circles[0, :]).astype(\"int\")\n",
    "\n",
    "        # loop over the (x, y) coordinates and radius of the circles\n",
    "        for (x, y, r) in circles:\n",
    "            # draw the circle in the output image, then draw a rectangle\n",
    "            # corresponding to the center of the circle\n",
    "            if np.sqrt((x -size/2)**2+(y-size/2)**2) > (size / 8):\n",
    "                continue\n",
    "            center_x, center_y = x, y\n",
    "            cv2.circle(output, (x, y), r, (0, 255, 0), 4)\n",
    "\n",
    "            cv2.rectangle(output, (x - 5, y - 5), (x + 5, y + 5), (0, 128, 255), -1)\n",
    "            break\n",
    "        # show the output image\n",
    "    if center_x == None:\n",
    "        center_x = int(size/2)\n",
    "        center_y = int(size/2)\n",
    "            \n",
    "\n",
    "        cv2.rectangle(output, (center_x - 5, center_y - 5), (center_x + 5, center_y + 5), (0, 128, 255), -1)\n",
    "    return center_x, center_y\n"
   ]
  },
  {
   "cell_type": "code",
   "execution_count": 82,
   "metadata": {
    "collapsed": true
   },
   "outputs": [],
   "source": [
    "def polar_to_cartesian(ori_img, pol_img, pol_lines):\n",
    "    import numpy as np\n",
    "    row = len(pol_img)\n",
    "    column = len(pol_img[0])\n",
    "    t_pi = np.pi*2\n",
    "    max_radius = np.sqrt(((ori_img.shape[0]/2.0)**2.0)+((ori_img.shape[1]/2.0)**2.0))\n",
    "    Klin = column / max_radius\n",
    "    Kangle = row / t_pi\n",
    "    cart_lines = []\n",
    "    for line in pol_lines:\n",
    "        coords=line[0]\n",
    "        rho_1, phi_1, rho_2, phi_2 = coords[0], coords[1], coords[2], coords[3]\n",
    "        angleRad1 = phi_1 / Kangle\n",
    "        magnitude1 = rho_1 / Klin\n",
    "        x1 = magnitude1 * np.cos(angleRad1)\n",
    "        y1 =  magnitude1 * np.sin(angleRad1)\n",
    "        angleRad2 = phi_2 / Kangle\n",
    "        magnitude2 = rho_2 / Klin\n",
    "        x2 = magnitude2 * np.cos(angleRad2)\n",
    "        y2 =  magnitude2 * np.sin(angleRad2)\n",
    "        cart_lines.append([[int(x1 + ori_img.shape[0]/2), int(y1+ori_img.shape[1]/2),int(x2+ori_img.shape[0]/2), int(y2+ori_img.shape[1]/2)]])\n",
    "    return cart_lines"
   ]
  },
  {
   "cell_type": "code",
   "execution_count": 83,
   "metadata": {},
   "outputs": [],
   "source": [
    "def calculate_ratio(ori_img, cart_lines, center_x, center_y):\n",
    "    original_image = ori_img.copy()\n",
    "    ratios = []\n",
    "    for line in cart_lines:\n",
    "        coords=line[0]\n",
    "        \n",
    "        dis1 = np.sqrt((coords[0] - center_x)**2 + (coords[1] - center_y)**2)\n",
    "        dis2 = np.sqrt((coords[0] - coords[2])**2 + (coords[1] - coords[3])**2)\n",
    "        ratios.append(dis1/dis2)\n",
    "        cv2.line(original_image,(coords[0],coords[1]),(coords[2],coords[3]),[255,255,255],3)\n",
    "        cv2.line(original_image,(center_x,center_y),(coords[0],coords[1]),[0,255,0],3)\n",
    "    return original_image, np.average(ratios)"
   ]
  },
  {
   "cell_type": "code",
   "execution_count": 87,
   "metadata": {},
   "outputs": [],
   "source": [
    "ratios = []\n",
    "for filename in os.listdir(image_folder):\n",
    "    image_path = image_folder +'/' + filename\n",
    "    center_x, center_y = find_circle(image_path)\n",
    "    img = np.asarray(Image.open(image_path))\n",
    "    polar_img, pol_lines = detect_lines_cy(img)\n",
    "    if not pol_lines:\n",
    "        ratios.append(None)\n",
    "        continue\n",
    "    cart_lines = polar_to_cartesian(img, polar_img, pol_lines)\n",
    "    final_image, ratio = calculate_ratio(img, cart_lines, center_x, center_y)\n",
    "    ratios.append(ratio)"
   ]
  },
  {
   "cell_type": "code",
   "execution_count": 90,
   "metadata": {},
   "outputs": [],
   "source": [
    "ratio_df =  pd.DataFrame({'file_name': os.listdir(image_folder), 'distance_ratio': ratios})"
   ]
  },
  {
   "cell_type": "code",
   "execution_count": 92,
   "metadata": {},
   "outputs": [],
   "source": [
    "ratio_df.to_csv('ratio_df')"
   ]
  }
 ],
 "metadata": {
  "anaconda-cloud": {},
  "kernelspec": {
   "display_name": "Python 3",
   "language": "python",
   "name": "python3"
  },
  "language_info": {
   "codemirror_mode": {
    "name": "ipython",
    "version": 3
   },
   "file_extension": ".py",
   "mimetype": "text/x-python",
   "name": "python",
   "nbconvert_exporter": "python",
   "pygments_lexer": "ipython3",
   "version": "3.6.5"
  }
 },
 "nbformat": 4,
 "nbformat_minor": 1
}
